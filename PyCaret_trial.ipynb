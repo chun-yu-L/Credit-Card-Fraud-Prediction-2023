{
 "cells": [
  {
   "cell_type": "code",
   "execution_count": 6,
   "metadata": {},
   "outputs": [],
   "source": [
    "import pandas as pd"
   ]
  },
  {
   "cell_type": "code",
   "execution_count": 7,
   "metadata": {},
   "outputs": [],
   "source": [
    "public_df = pd.read_csv('public_processed.csv')\n",
    "train_df = pd.read_csv('training.csv')\n",
    "### 保留 txkey 欄位最後上傳用\n",
    "final_df = public_df[['txkey']]\n",
    "\n",
    "### 預測用資料集，訓練完模型在跑這行就好\n",
    "## 把資料轉成正確data type\n",
    "# 類別變數比較多，所以先把全部轉成類別\n",
    "public_df = public_df.astype('category')\n",
    "\n",
    "# 剩下轉回數值變數\n",
    "public_df[['locdt', 'loctm', 'flam1', 'csmam']] = public_df[['locdt', 'loctm', 'flam1', 'csmam']].astype('int64')\n",
    "public_df[['conam', 'iterm']] = public_df[['conam', 'iterm']].astype('float64')\n",
    "\n",
    "## 缺失值填充\n",
    "\n",
    "# 指定要填充的欄位\n",
    "columns_to_fill = ['etymd', 'mcc', 'stocn', 'scity', 'hcefg', 'csmcu']\n",
    "\n",
    "# 將 \"others\" 添加到類別中，如果已經存在，則忽略\n",
    "for column in columns_to_fill:\n",
    "    public_df[column] = public_df[column].cat.add_categories('-1').fillna('-1')\n",
    "\n",
    "\n",
    "# stscd(狀態碼)幾乎全部都是缺失值，也應該不是重要特徵，先就刪掉這欄\n",
    "public_df.drop('stscd', axis=1, inplace=True)\n",
    "\n",
    "# txkey全部都是唯一資料，刪除不用\n",
    "public_df.drop('txkey', axis=1, inplace=True)\n",
    "\n",
    "## 把資料轉成正確data type\n",
    "# 類別變數比較多，所以先把全部轉成類別\n",
    "train_df = train_df.astype('category')\n",
    "\n",
    "# 剩下轉回數值變數\n",
    "train_df[['locdt', 'loctm', 'flam1', 'csmam']] = train_df[['locdt', 'loctm', 'flam1', 'csmam']].astype('int64')\n",
    "train_df[['conam', 'iterm']] = train_df[['conam', 'iterm']].astype('float64')\n",
    "\n",
    "\n",
    "## 缺失值填充\n",
    "\n",
    "# 指定要填充的欄位\n",
    "columns_to_fill = ['etymd', 'mcc', 'stocn', 'scity', 'hcefg', 'csmcu']\n",
    "\n",
    "# 將 \"others\" 添加到類別中，如果已經存在，則忽略\n",
    "for column in columns_to_fill:\n",
    "    train_df[column] = train_df[column].cat.add_categories('-1').fillna('-1')\n",
    "\n",
    "\n",
    "# stscd(狀態碼)幾乎全部都是缺失值，也應該不是重要特徵，先就刪掉這欄\n",
    "train_df.drop('stscd', axis=1, inplace=True)\n",
    "\n",
    "### 移除不必要的column\n",
    "\n",
    "## 檢查txkey是否只包含唯一值\n",
    "#uni_txkey = train_df['txkey'].value_counts().reset_index()\n",
    "#print(uni_txkey.loc[uni_txkey['count'] != 1])\n",
    "\n",
    "# txkey全部都是唯一資料，刪除不用\n",
    "train_df.drop('txkey', axis=1, inplace=True)"
   ]
  },
  {
   "cell_type": "markdown",
   "metadata": {},
   "source": [
    "## PyCaret Tutorial"
   ]
  },
  {
   "cell_type": "code",
   "execution_count": 8,
   "metadata": {},
   "outputs": [],
   "source": [
    "# label轉成數值，不轉會出現error\n",
    "train_df['label'] = train_df['label'].astype('int64')"
   ]
  },
  {
   "cell_type": "code",
   "execution_count": 1,
   "metadata": {},
   "outputs": [],
   "source": [
    "# import ClassificationExperiment and init the class\n",
    "from pycaret.classification import ClassificationExperiment\n",
    "exp = ClassificationExperiment()"
   ]
  },
  {
   "cell_type": "code",
   "execution_count": 9,
   "metadata": {},
   "outputs": [
    {
     "name": "stdout",
     "output_type": "stream",
     "text": [
      "['chid', 'cano', 'contp', 'etymd', 'mchno', 'acqic', 'mcc', 'ecfg', 'insfg', 'bnsfg', 'stocn', 'scity', 'ovrlt', 'flbmk', 'hcefg', 'csmcu', 'flg_3dsmk']\n",
      "Number of categorical feature: 17\n"
     ]
    }
   ],
   "source": [
    "categorical_feature = [col for col in train_df.columns if train_df[col].dtype == 'category' and col != 'label']\n",
    "print(categorical_feature)\n",
    "print('Number of categorical feature:', len(categorical_feature))"
   ]
  },
  {
   "cell_type": "markdown",
   "metadata": {},
   "source": [
    "### Setup"
   ]
  },
  {
   "cell_type": "code",
   "execution_count": 11,
   "metadata": {},
   "outputs": [
    {
     "data": {
      "text/html": [
       "<style type=\"text/css\">\n",
       "#T_f19ac_row10_col1, #T_f19ac_row16_col1 {\n",
       "  background-color: lightgreen;\n",
       "}\n",
       "</style>\n",
       "<table id=\"T_f19ac\">\n",
       "  <thead>\n",
       "    <tr>\n",
       "      <th class=\"blank level0\" >&nbsp;</th>\n",
       "      <th id=\"T_f19ac_level0_col0\" class=\"col_heading level0 col0\" >Description</th>\n",
       "      <th id=\"T_f19ac_level0_col1\" class=\"col_heading level0 col1\" >Value</th>\n",
       "    </tr>\n",
       "  </thead>\n",
       "  <tbody>\n",
       "    <tr>\n",
       "      <th id=\"T_f19ac_level0_row0\" class=\"row_heading level0 row0\" >0</th>\n",
       "      <td id=\"T_f19ac_row0_col0\" class=\"data row0 col0\" >Session id</td>\n",
       "      <td id=\"T_f19ac_row0_col1\" class=\"data row0 col1\" >123</td>\n",
       "    </tr>\n",
       "    <tr>\n",
       "      <th id=\"T_f19ac_level0_row1\" class=\"row_heading level0 row1\" >1</th>\n",
       "      <td id=\"T_f19ac_row1_col0\" class=\"data row1 col0\" >Target</td>\n",
       "      <td id=\"T_f19ac_row1_col1\" class=\"data row1 col1\" >label</td>\n",
       "    </tr>\n",
       "    <tr>\n",
       "      <th id=\"T_f19ac_level0_row2\" class=\"row_heading level0 row2\" >2</th>\n",
       "      <td id=\"T_f19ac_row2_col0\" class=\"data row2 col0\" >Target type</td>\n",
       "      <td id=\"T_f19ac_row2_col1\" class=\"data row2 col1\" >Binary</td>\n",
       "    </tr>\n",
       "    <tr>\n",
       "      <th id=\"T_f19ac_level0_row3\" class=\"row_heading level0 row3\" >3</th>\n",
       "      <td id=\"T_f19ac_row3_col0\" class=\"data row3 col0\" >Original data shape</td>\n",
       "      <td id=\"T_f19ac_row3_col1\" class=\"data row3 col1\" >(8688526, 24)</td>\n",
       "    </tr>\n",
       "    <tr>\n",
       "      <th id=\"T_f19ac_level0_row4\" class=\"row_heading level0 row4\" >4</th>\n",
       "      <td id=\"T_f19ac_row4_col0\" class=\"data row4 col0\" >Transformed data shape</td>\n",
       "      <td id=\"T_f19ac_row4_col1\" class=\"data row4 col1\" >(14725654, 51)</td>\n",
       "    </tr>\n",
       "    <tr>\n",
       "      <th id=\"T_f19ac_level0_row5\" class=\"row_heading level0 row5\" >5</th>\n",
       "      <td id=\"T_f19ac_row5_col0\" class=\"data row5 col0\" >Transformed train set shape</td>\n",
       "      <td id=\"T_f19ac_row5_col1\" class=\"data row5 col1\" >(12119096, 51)</td>\n",
       "    </tr>\n",
       "    <tr>\n",
       "      <th id=\"T_f19ac_level0_row6\" class=\"row_heading level0 row6\" >6</th>\n",
       "      <td id=\"T_f19ac_row6_col0\" class=\"data row6 col0\" >Transformed test set shape</td>\n",
       "      <td id=\"T_f19ac_row6_col1\" class=\"data row6 col1\" >(2606558, 51)</td>\n",
       "    </tr>\n",
       "    <tr>\n",
       "      <th id=\"T_f19ac_level0_row7\" class=\"row_heading level0 row7\" >7</th>\n",
       "      <td id=\"T_f19ac_row7_col0\" class=\"data row7 col0\" >Ordinal features</td>\n",
       "      <td id=\"T_f19ac_row7_col1\" class=\"data row7 col1\" >6</td>\n",
       "    </tr>\n",
       "    <tr>\n",
       "      <th id=\"T_f19ac_level0_row8\" class=\"row_heading level0 row8\" >8</th>\n",
       "      <td id=\"T_f19ac_row8_col0\" class=\"data row8 col0\" >Numeric features</td>\n",
       "      <td id=\"T_f19ac_row8_col1\" class=\"data row8 col1\" >6</td>\n",
       "    </tr>\n",
       "    <tr>\n",
       "      <th id=\"T_f19ac_level0_row9\" class=\"row_heading level0 row9\" >9</th>\n",
       "      <td id=\"T_f19ac_row9_col0\" class=\"data row9 col0\" >Categorical features</td>\n",
       "      <td id=\"T_f19ac_row9_col1\" class=\"data row9 col1\" >17</td>\n",
       "    </tr>\n",
       "    <tr>\n",
       "      <th id=\"T_f19ac_level0_row10\" class=\"row_heading level0 row10\" >10</th>\n",
       "      <td id=\"T_f19ac_row10_col0\" class=\"data row10 col0\" >Preprocess</td>\n",
       "      <td id=\"T_f19ac_row10_col1\" class=\"data row10 col1\" >True</td>\n",
       "    </tr>\n",
       "    <tr>\n",
       "      <th id=\"T_f19ac_level0_row11\" class=\"row_heading level0 row11\" >11</th>\n",
       "      <td id=\"T_f19ac_row11_col0\" class=\"data row11 col0\" >Imputation type</td>\n",
       "      <td id=\"T_f19ac_row11_col1\" class=\"data row11 col1\" >simple</td>\n",
       "    </tr>\n",
       "    <tr>\n",
       "      <th id=\"T_f19ac_level0_row12\" class=\"row_heading level0 row12\" >12</th>\n",
       "      <td id=\"T_f19ac_row12_col0\" class=\"data row12 col0\" >Numeric imputation</td>\n",
       "      <td id=\"T_f19ac_row12_col1\" class=\"data row12 col1\" >mean</td>\n",
       "    </tr>\n",
       "    <tr>\n",
       "      <th id=\"T_f19ac_level0_row13\" class=\"row_heading level0 row13\" >13</th>\n",
       "      <td id=\"T_f19ac_row13_col0\" class=\"data row13 col0\" >Categorical imputation</td>\n",
       "      <td id=\"T_f19ac_row13_col1\" class=\"data row13 col1\" >mode</td>\n",
       "    </tr>\n",
       "    <tr>\n",
       "      <th id=\"T_f19ac_level0_row14\" class=\"row_heading level0 row14\" >14</th>\n",
       "      <td id=\"T_f19ac_row14_col0\" class=\"data row14 col0\" >Maximum one-hot encoding</td>\n",
       "      <td id=\"T_f19ac_row14_col1\" class=\"data row14 col1\" >25</td>\n",
       "    </tr>\n",
       "    <tr>\n",
       "      <th id=\"T_f19ac_level0_row15\" class=\"row_heading level0 row15\" >15</th>\n",
       "      <td id=\"T_f19ac_row15_col0\" class=\"data row15 col0\" >Encoding method</td>\n",
       "      <td id=\"T_f19ac_row15_col1\" class=\"data row15 col1\" >None</td>\n",
       "    </tr>\n",
       "    <tr>\n",
       "      <th id=\"T_f19ac_level0_row16\" class=\"row_heading level0 row16\" >16</th>\n",
       "      <td id=\"T_f19ac_row16_col0\" class=\"data row16 col0\" >Fix imbalance</td>\n",
       "      <td id=\"T_f19ac_row16_col1\" class=\"data row16 col1\" >True</td>\n",
       "    </tr>\n",
       "    <tr>\n",
       "      <th id=\"T_f19ac_level0_row17\" class=\"row_heading level0 row17\" >17</th>\n",
       "      <td id=\"T_f19ac_row17_col0\" class=\"data row17 col0\" >Fix imbalance method</td>\n",
       "      <td id=\"T_f19ac_row17_col1\" class=\"data row17 col1\" >RandomOverSampler</td>\n",
       "    </tr>\n",
       "    <tr>\n",
       "      <th id=\"T_f19ac_level0_row18\" class=\"row_heading level0 row18\" >18</th>\n",
       "      <td id=\"T_f19ac_row18_col0\" class=\"data row18 col0\" >Fold Generator</td>\n",
       "      <td id=\"T_f19ac_row18_col1\" class=\"data row18 col1\" >StratifiedKFold</td>\n",
       "    </tr>\n",
       "    <tr>\n",
       "      <th id=\"T_f19ac_level0_row19\" class=\"row_heading level0 row19\" >19</th>\n",
       "      <td id=\"T_f19ac_row19_col0\" class=\"data row19 col0\" >Fold Number</td>\n",
       "      <td id=\"T_f19ac_row19_col1\" class=\"data row19 col1\" >10</td>\n",
       "    </tr>\n",
       "    <tr>\n",
       "      <th id=\"T_f19ac_level0_row20\" class=\"row_heading level0 row20\" >20</th>\n",
       "      <td id=\"T_f19ac_row20_col0\" class=\"data row20 col0\" >CPU Jobs</td>\n",
       "      <td id=\"T_f19ac_row20_col1\" class=\"data row20 col1\" >10</td>\n",
       "    </tr>\n",
       "    <tr>\n",
       "      <th id=\"T_f19ac_level0_row21\" class=\"row_heading level0 row21\" >21</th>\n",
       "      <td id=\"T_f19ac_row21_col0\" class=\"data row21 col0\" >Use GPU</td>\n",
       "      <td id=\"T_f19ac_row21_col1\" class=\"data row21 col1\" >False</td>\n",
       "    </tr>\n",
       "    <tr>\n",
       "      <th id=\"T_f19ac_level0_row22\" class=\"row_heading level0 row22\" >22</th>\n",
       "      <td id=\"T_f19ac_row22_col0\" class=\"data row22 col0\" >Log Experiment</td>\n",
       "      <td id=\"T_f19ac_row22_col1\" class=\"data row22 col1\" >MlflowLogger</td>\n",
       "    </tr>\n",
       "    <tr>\n",
       "      <th id=\"T_f19ac_level0_row23\" class=\"row_heading level0 row23\" >23</th>\n",
       "      <td id=\"T_f19ac_row23_col0\" class=\"data row23 col0\" >Experiment Name</td>\n",
       "      <td id=\"T_f19ac_row23_col1\" class=\"data row23 col1\" >01_FirstExp</td>\n",
       "    </tr>\n",
       "    <tr>\n",
       "      <th id=\"T_f19ac_level0_row24\" class=\"row_heading level0 row24\" >24</th>\n",
       "      <td id=\"T_f19ac_row24_col0\" class=\"data row24 col0\" >USI</td>\n",
       "      <td id=\"T_f19ac_row24_col1\" class=\"data row24 col1\" >9d0e</td>\n",
       "    </tr>\n",
       "  </tbody>\n",
       "</table>\n"
      ],
      "text/plain": [
       "<pandas.io.formats.style.Styler at 0x349ff52a0>"
      ]
     },
     "metadata": {},
     "output_type": "display_data"
    },
    {
     "name": "stderr",
     "output_type": "stream",
     "text": [
      "2023/11/13 15:03:58 INFO mlflow.tracking.fluent: Experiment with name '01_FirstExp' does not exist. Creating a new experiment.\n"
     ]
    },
    {
     "data": {
      "text/plain": [
       "<pycaret.classification.oop.ClassificationExperiment at 0x104f84bb0>"
      ]
     },
     "execution_count": 11,
     "metadata": {},
     "output_type": "execute_result"
    }
   ],
   "source": [
    "# init setup on exp\n",
    "exp.setup(train_df, target='label',\n",
    "          fix_imbalance=True, fix_imbalance_method='RandomOverSampler',\n",
    "          n_jobs=10,\n",
    "          fold=5,\n",
    "          log_experiment=True, experiment_name='01_FirstExp',\n",
    "          session_id=123)"
   ]
  },
  {
   "cell_type": "code",
   "execution_count": null,
   "metadata": {},
   "outputs": [],
   "source": [
    "exp.models()"
   ]
  },
  {
   "cell_type": "code",
   "execution_count": null,
   "metadata": {},
   "outputs": [],
   "source": [
    "# compare selected models\n",
    "include_models = ['lr', 'nb', 'dt', 'svm', 'mlp', 'rf', 'lightgbm'] \n",
    "best = exp.compare_models(include=include_models, sort='F1')"
   ]
  },
  {
   "cell_type": "code",
   "execution_count": null,
   "metadata": {},
   "outputs": [],
   "source": [
    "#exp.evaluate_model(best)\n",
    "#exp.plot_model(best, plot='feature')"
   ]
  },
  {
   "cell_type": "code",
   "execution_count": null,
   "metadata": {},
   "outputs": [],
   "source": [
    "exp.save_model(best, '01_first_model_pipeline')"
   ]
  },
  {
   "cell_type": "code",
   "execution_count": null,
   "metadata": {},
   "outputs": [],
   "source": [
    "tune_best = exp.tune_model(best, optimize='F1')"
   ]
  },
  {
   "cell_type": "code",
   "execution_count": null,
   "metadata": {},
   "outputs": [],
   "source": [
    "tune_best"
   ]
  },
  {
   "cell_type": "code",
   "execution_count": null,
   "metadata": {},
   "outputs": [],
   "source": [
    "exp.save_model(tune_best, '02_tuned_model_pipeline')"
   ]
  }
 ],
 "metadata": {
  "kernelspec": {
   "display_name": "py310",
   "language": "python",
   "name": "python3"
  },
  "language_info": {
   "codemirror_mode": {
    "name": "ipython",
    "version": 3
   },
   "file_extension": ".py",
   "mimetype": "text/x-python",
   "name": "python",
   "nbconvert_exporter": "python",
   "pygments_lexer": "ipython3",
   "version": "3.10.13"
  }
 },
 "nbformat": 4,
 "nbformat_minor": 2
}
