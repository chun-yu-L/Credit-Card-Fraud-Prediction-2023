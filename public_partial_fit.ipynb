{
 "cells": [
  {
   "cell_type": "markdown",
   "metadata": {},
   "source": [
    "# Data preprocessing and setup"
   ]
  },
  {
   "cell_type": "code",
   "execution_count": 2,
   "metadata": {},
   "outputs": [],
   "source": [
    "import pandas as pd"
   ]
  },
  {
   "cell_type": "code",
   "execution_count": 3,
   "metadata": {},
   "outputs": [],
   "source": [
    "# Function for data preprocessing\n",
    "def preprocess_dataframe(df):\n",
    "    # 轉換資料類型\n",
    "    ## 先全部轉類別\n",
    "    df = df.astype('category')\n",
    "    \n",
    "    ## 然後把數值轉回來\n",
    "    df[['locdt', 'loctm', 'flam1', 'csmam']] = df[['locdt', 'loctm', 'flam1', 'csmam']].astype('int64')\n",
    "    df[['conam', 'iterm']] = df[['conam', 'iterm']].astype('float64')\n",
    "\n",
    "    ## label 也要轉成數值，不轉模型訓練會出現 error\n",
    "    if 'label' in df.columns:\n",
    "        df['label'] = df['label'].astype('int64')\n",
    "\n",
    "    # 缺失值填充\n",
    "    columns_to_fill = ['etymd', 'mcc', 'stocn', 'scity', 'hcefg', 'csmcu']\n",
    "    for column in columns_to_fill:\n",
    "        df[column] = df[column].cat.add_categories('-1').fillna('-1')\n",
    "\n",
    "    # 刪除不需要的欄位\n",
    "    ## stscd(狀態碼)幾乎全部都是缺失值，也應該不是重要特徵，先就刪掉這欄\n",
    "    ## txkey全部都是唯一資料，刪除不用\n",
    "    df.drop(['stscd', 'txkey'], axis=1, inplace=True)\n",
    "\n",
    "    return df"
   ]
  },
  {
   "cell_type": "code",
   "execution_count": 66,
   "metadata": {},
   "outputs": [],
   "source": [
    "# 讀取資料\n",
    "public_df = pd.read_csv('/Users/chunyu/Desktop/ESun_data_project/Other_lgbm_exp/public.csv')\n",
    "train_df = pd.read_csv('/Users/chunyu/Desktop/ESun_data_project/Other_lgbm_exp/training.csv')\n",
    "private_df = pd.read_csv('/Users/chunyu/Desktop/ESun_data_project/Other_lgbm_exp/private_1_processed.csv')\n",
    "\n",
    "# 準備上傳用資料(只保留 txkey 欄位df)\n",
    "final_df = private_df[['txkey']]\n",
    "\n",
    "# 預處理資料\n",
    "public_df = preprocess_dataframe(public_df)\n",
    "train_df = preprocess_dataframe(train_df)\n",
    "private_df = preprocess_dataframe(private_df)"
   ]
  },
  {
   "cell_type": "code",
   "execution_count": 11,
   "metadata": {},
   "outputs": [
    {
     "data": {
      "text/plain": [
       "609040"
      ]
     },
     "execution_count": 11,
     "metadata": {},
     "output_type": "execute_result"
    }
   ],
   "source": [
    "len(public_df)"
   ]
  },
  {
   "cell_type": "code",
   "execution_count": 12,
   "metadata": {},
   "outputs": [
    {
     "data": {
      "text/plain": [
       "754139"
      ]
     },
     "execution_count": 12,
     "metadata": {},
     "output_type": "execute_result"
    }
   ],
   "source": [
    "len(private_df)"
   ]
  },
  {
   "cell_type": "code",
   "execution_count": 13,
   "metadata": {},
   "outputs": [
    {
     "data": {
      "text/plain": [
       "8688526"
      ]
     },
     "execution_count": 13,
     "metadata": {},
     "output_type": "execute_result"
    }
   ],
   "source": [
    "len(train_df)"
   ]
  },
  {
   "cell_type": "markdown",
   "metadata": {},
   "source": [
    "# Import original model trained by pycaret"
   ]
  },
  {
   "cell_type": "code",
   "execution_count": 31,
   "metadata": {},
   "outputs": [],
   "source": [
    "from pycaret.classification import ClassificationExperiment\n",
    "exp = ClassificationExperiment()"
   ]
  },
  {
   "cell_type": "code",
   "execution_count": 6,
   "metadata": {},
   "outputs": [
    {
     "name": "stdout",
     "output_type": "stream",
     "text": [
      "Transformation Pipeline and Model Successfully Loaded\n"
     ]
    }
   ],
   "source": [
    "bst_pycaret_lgbm = exp.load_model('17_bst_threshold_caliberate')"
   ]
  },
  {
   "cell_type": "markdown",
   "metadata": {},
   "source": [
    "# Experiment: Compare the Preformance of Original Model and the Incremental Model"
   ]
  },
  {
   "cell_type": "markdown",
   "metadata": {},
   "source": [
    "## Split test set for comparison"
   ]
  },
  {
   "cell_type": "code",
   "execution_count": 18,
   "metadata": {},
   "outputs": [],
   "source": [
    "from sklearn.model_selection import train_test_split\n",
    "\n",
    "#分割特徵和目標變數\n",
    "X = public_df.drop('label', axis=1) # 特徵\n",
    "y = public_df['label'] # 目標變數\n",
    "\n",
    "# 分割50%出來做測試集\n",
    "X_train, X_test, y_train, y_test = train_test_split(X, y, test_size=0.5, random_state=123)\n",
    "\n",
    "# 將 y 轉為一維 NumPy 陣列\n",
    "y_train = y_train.to_numpy()\n",
    "y_test = y_test.to_numpy()"
   ]
  },
  {
   "cell_type": "markdown",
   "metadata": {},
   "source": [
    "## Incremental training with LightGBM"
   ]
  },
  {
   "cell_type": "code",
   "execution_count": 28,
   "metadata": {},
   "outputs": [],
   "source": [
    "import lightgbm as lgb\n",
    "from imblearn.over_sampling import RandomOverSampler # oversampling 過採樣\n",
    "from sklearn.metrics import accuracy_score, classification_report\n",
    "from sklearn.metrics import precision_recall_curve, auc"
   ]
  },
  {
   "cell_type": "code",
   "execution_count": 21,
   "metadata": {},
   "outputs": [
    {
     "data": {
      "text/html": [
       "<style>#sk-container-id-4 {color: black;background-color: white;}#sk-container-id-4 pre{padding: 0;}#sk-container-id-4 div.sk-toggleable {background-color: white;}#sk-container-id-4 label.sk-toggleable__label {cursor: pointer;display: block;width: 100%;margin-bottom: 0;padding: 0.3em;box-sizing: border-box;text-align: center;}#sk-container-id-4 label.sk-toggleable__label-arrow:before {content: \"▸\";float: left;margin-right: 0.25em;color: #696969;}#sk-container-id-4 label.sk-toggleable__label-arrow:hover:before {color: black;}#sk-container-id-4 div.sk-estimator:hover label.sk-toggleable__label-arrow:before {color: black;}#sk-container-id-4 div.sk-toggleable__content {max-height: 0;max-width: 0;overflow: hidden;text-align: left;background-color: #f0f8ff;}#sk-container-id-4 div.sk-toggleable__content pre {margin: 0.2em;color: black;border-radius: 0.25em;background-color: #f0f8ff;}#sk-container-id-4 input.sk-toggleable__control:checked~div.sk-toggleable__content {max-height: 200px;max-width: 100%;overflow: auto;}#sk-container-id-4 input.sk-toggleable__control:checked~label.sk-toggleable__label-arrow:before {content: \"▾\";}#sk-container-id-4 div.sk-estimator input.sk-toggleable__control:checked~label.sk-toggleable__label {background-color: #d4ebff;}#sk-container-id-4 div.sk-label input.sk-toggleable__control:checked~label.sk-toggleable__label {background-color: #d4ebff;}#sk-container-id-4 input.sk-hidden--visually {border: 0;clip: rect(1px 1px 1px 1px);clip: rect(1px, 1px, 1px, 1px);height: 1px;margin: -1px;overflow: hidden;padding: 0;position: absolute;width: 1px;}#sk-container-id-4 div.sk-estimator {font-family: monospace;background-color: #f0f8ff;border: 1px dotted black;border-radius: 0.25em;box-sizing: border-box;margin-bottom: 0.5em;}#sk-container-id-4 div.sk-estimator:hover {background-color: #d4ebff;}#sk-container-id-4 div.sk-parallel-item::after {content: \"\";width: 100%;border-bottom: 1px solid gray;flex-grow: 1;}#sk-container-id-4 div.sk-label:hover label.sk-toggleable__label {background-color: #d4ebff;}#sk-container-id-4 div.sk-serial::before {content: \"\";position: absolute;border-left: 1px solid gray;box-sizing: border-box;top: 0;bottom: 0;left: 50%;z-index: 0;}#sk-container-id-4 div.sk-serial {display: flex;flex-direction: column;align-items: center;background-color: white;padding-right: 0.2em;padding-left: 0.2em;position: relative;}#sk-container-id-4 div.sk-item {position: relative;z-index: 1;}#sk-container-id-4 div.sk-parallel {display: flex;align-items: stretch;justify-content: center;background-color: white;position: relative;}#sk-container-id-4 div.sk-item::before, #sk-container-id-4 div.sk-parallel-item::before {content: \"\";position: absolute;border-left: 1px solid gray;box-sizing: border-box;top: 0;bottom: 0;left: 50%;z-index: -1;}#sk-container-id-4 div.sk-parallel-item {display: flex;flex-direction: column;z-index: 1;position: relative;background-color: white;}#sk-container-id-4 div.sk-parallel-item:first-child::after {align-self: flex-end;width: 50%;}#sk-container-id-4 div.sk-parallel-item:last-child::after {align-self: flex-start;width: 50%;}#sk-container-id-4 div.sk-parallel-item:only-child::after {width: 0;}#sk-container-id-4 div.sk-dashed-wrapped {border: 1px dashed gray;margin: 0 0.4em 0.5em 0.4em;box-sizing: border-box;padding-bottom: 0.4em;background-color: white;}#sk-container-id-4 div.sk-label label {font-family: monospace;font-weight: bold;display: inline-block;line-height: 1.2em;}#sk-container-id-4 div.sk-label-container {text-align: center;}#sk-container-id-4 div.sk-container {/* jupyter's `normalize.less` sets `[hidden] { display: none; }` but bootstrap.min.css set `[hidden] { display: none !important; }` so we also need the `!important` here to be able to override the default hidden behavior on the sphinx rendered scikit-learn.org. See: https://github.com/scikit-learn/scikit-learn/issues/21755 */display: inline-block !important;position: relative;}#sk-container-id-4 div.sk-text-repr-fallback {display: none;}</style><div id=\"sk-container-id-4\" class=\"sk-top-container\"><div class=\"sk-text-repr-fallback\"><pre>CustomProbabilityThresholdClassifier(base_estimator=LGBMClassifier(bagging_fraction=0.9,\n",
       "                                                                   bagging_freq=3,\n",
       "                                                                   feature_fraction=0.5,\n",
       "                                                                   learning_rate=0.4,\n",
       "                                                                   min_child_samples=6,\n",
       "                                                                   min_split_gain=0.3,\n",
       "                                                                   n_estimators=20,\n",
       "                                                                   n_jobs=10,\n",
       "                                                                   num_leaves=150,\n",
       "                                                                   random_state=123,\n",
       "                                                                   reg_alpha=0.005,\n",
       "                                                                   reg_lambda=0.0005),\n",
       "                                     classifier=CalibratedClassifierCV(base_estimator=LGBMClassifier(bagging_fraction=0.9,\n",
       "                                                                                                     bagging_freq=3,\n",
       "                                                                                                     feature_fraction=0.5,\n",
       "                                                                                                     learning_rate=0.4,\n",
       "                                                                                                     min_child_samples=6,\n",
       "                                                                                                     min_split_gain=0.3,\n",
       "                                                                                                     n_estimators=20,\n",
       "                                                                                                     n_jobs=10,\n",
       "                                                                                                     num_leaves=150,\n",
       "                                                                                                     random_state=123,\n",
       "                                                                                                     reg_alpha=0.005,\n",
       "                                                                                                     reg_lambda=0.0005),\n",
       "                                                                       cv=5),\n",
       "                                     cv=5, ensemble=True, estimator=None,\n",
       "                                     method=&#x27;sigmoid&#x27;, n_jobs=None,\n",
       "                                     probability_threshold=0.359375)</pre><b>In a Jupyter environment, please rerun this cell to show the HTML representation or trust the notebook. <br />On GitHub, the HTML representation is unable to render, please try loading this page with nbviewer.org.</b></div><div class=\"sk-container\" hidden><div class=\"sk-item sk-dashed-wrapped\"><div class=\"sk-label-container\"><div class=\"sk-label sk-toggleable\"><input class=\"sk-toggleable__control sk-hidden--visually\" id=\"sk-estimator-id-39\" type=\"checkbox\" ><label for=\"sk-estimator-id-39\" class=\"sk-toggleable__label sk-toggleable__label-arrow\">CustomProbabilityThresholdClassifier</label><div class=\"sk-toggleable__content\"><pre>CustomProbabilityThresholdClassifier(base_estimator=LGBMClassifier(bagging_fraction=0.9,\n",
       "                                                                   bagging_freq=3,\n",
       "                                                                   feature_fraction=0.5,\n",
       "                                                                   learning_rate=0.4,\n",
       "                                                                   min_child_samples=6,\n",
       "                                                                   min_split_gain=0.3,\n",
       "                                                                   n_estimators=20,\n",
       "                                                                   n_jobs=10,\n",
       "                                                                   num_leaves=150,\n",
       "                                                                   random_state=123,\n",
       "                                                                   reg_alpha=0.005,\n",
       "                                                                   reg_lambda=0.0005),\n",
       "                                     classifier=CalibratedClassifierCV(base_estimator=LGBMClassifier(bagging_fraction=0.9,\n",
       "                                                                                                     bagging_freq=3,\n",
       "                                                                                                     feature_fraction=0.5,\n",
       "                                                                                                     learning_rate=0.4,\n",
       "                                                                                                     min_child_samples=6,\n",
       "                                                                                                     min_split_gain=0.3,\n",
       "                                                                                                     n_estimators=20,\n",
       "                                                                                                     n_jobs=10,\n",
       "                                                                                                     num_leaves=150,\n",
       "                                                                                                     random_state=123,\n",
       "                                                                                                     reg_alpha=0.005,\n",
       "                                                                                                     reg_lambda=0.0005),\n",
       "                                                                       cv=5),\n",
       "                                     cv=5, ensemble=True, estimator=None,\n",
       "                                     method=&#x27;sigmoid&#x27;, n_jobs=None,\n",
       "                                     probability_threshold=0.359375)</pre></div></div></div><div class=\"sk-parallel\"><div class=\"sk-parallel-item\"><div class=\"sk-item\"><div class=\"sk-label-container\"><div class=\"sk-label sk-toggleable\"><input class=\"sk-toggleable__control sk-hidden--visually\" id=\"sk-estimator-id-40\" type=\"checkbox\" ><label for=\"sk-estimator-id-40\" class=\"sk-toggleable__label sk-toggleable__label-arrow\">base_estimator: LGBMClassifier</label><div class=\"sk-toggleable__content\"><pre>LGBMClassifier(bagging_fraction=0.9, bagging_freq=3, feature_fraction=0.5,\n",
       "               learning_rate=0.4, min_child_samples=6, min_split_gain=0.3,\n",
       "               n_estimators=20, n_jobs=10, num_leaves=150, random_state=123,\n",
       "               reg_alpha=0.005, reg_lambda=0.0005)</pre></div></div></div><div class=\"sk-serial\"><div class=\"sk-item\"><div class=\"sk-estimator sk-toggleable\"><input class=\"sk-toggleable__control sk-hidden--visually\" id=\"sk-estimator-id-41\" type=\"checkbox\" ><label for=\"sk-estimator-id-41\" class=\"sk-toggleable__label sk-toggleable__label-arrow\">LGBMClassifier</label><div class=\"sk-toggleable__content\"><pre>LGBMClassifier(bagging_fraction=0.9, bagging_freq=3, feature_fraction=0.5,\n",
       "               learning_rate=0.4, min_child_samples=6, min_split_gain=0.3,\n",
       "               n_estimators=20, n_jobs=10, num_leaves=150, random_state=123,\n",
       "               reg_alpha=0.005, reg_lambda=0.0005)</pre></div></div></div></div></div></div><div class=\"sk-parallel-item\"><div class=\"sk-item\"><div class=\"sk-label-container\"><div class=\"sk-label sk-toggleable\"><input class=\"sk-toggleable__control sk-hidden--visually\" id=\"sk-estimator-id-42\" type=\"checkbox\" ><label for=\"sk-estimator-id-42\" class=\"sk-toggleable__label sk-toggleable__label-arrow\">classifier: CalibratedClassifierCV</label><div class=\"sk-toggleable__content\"><pre>CalibratedClassifierCV(base_estimator=LGBMClassifier(bagging_fraction=0.9,\n",
       "                                                     bagging_freq=3,\n",
       "                                                     feature_fraction=0.5,\n",
       "                                                     learning_rate=0.4,\n",
       "                                                     min_child_samples=6,\n",
       "                                                     min_split_gain=0.3,\n",
       "                                                     n_estimators=20, n_jobs=10,\n",
       "                                                     num_leaves=150,\n",
       "                                                     random_state=123,\n",
       "                                                     reg_alpha=0.005,\n",
       "                                                     reg_lambda=0.0005),\n",
       "                       cv=5)</pre></div></div></div><div class=\"sk-serial\"><div class=\"sk-item sk-dashed-wrapped\"><div class=\"sk-parallel\"><div class=\"sk-parallel-item\"><div class=\"sk-item\"><div class=\"sk-label-container\"><div class=\"sk-label sk-toggleable\"><input class=\"sk-toggleable__control sk-hidden--visually\" id=\"sk-estimator-id-43\" type=\"checkbox\" ><label for=\"sk-estimator-id-43\" class=\"sk-toggleable__label sk-toggleable__label-arrow\">base_estimator: LGBMClassifier</label><div class=\"sk-toggleable__content\"><pre>LGBMClassifier(bagging_fraction=0.9, bagging_freq=3, feature_fraction=0.5,\n",
       "               learning_rate=0.4, min_child_samples=6, min_split_gain=0.3,\n",
       "               n_estimators=20, n_jobs=10, num_leaves=150, random_state=123,\n",
       "               reg_alpha=0.005, reg_lambda=0.0005)</pre></div></div></div><div class=\"sk-serial\"><div class=\"sk-item\"><div class=\"sk-estimator sk-toggleable\"><input class=\"sk-toggleable__control sk-hidden--visually\" id=\"sk-estimator-id-44\" type=\"checkbox\" ><label for=\"sk-estimator-id-44\" class=\"sk-toggleable__label sk-toggleable__label-arrow\">LGBMClassifier</label><div class=\"sk-toggleable__content\"><pre>LGBMClassifier(bagging_fraction=0.9, bagging_freq=3, feature_fraction=0.5,\n",
       "               learning_rate=0.4, min_child_samples=6, min_split_gain=0.3,\n",
       "               n_estimators=20, n_jobs=10, num_leaves=150, random_state=123,\n",
       "               reg_alpha=0.005, reg_lambda=0.0005)</pre></div></div></div></div></div></div></div></div></div></div></div></div></div></div></div>"
      ],
      "text/plain": [
       "CustomProbabilityThresholdClassifier(base_estimator=LGBMClassifier(bagging_fraction=0.9,\n",
       "                                                                   bagging_freq=3,\n",
       "                                                                   feature_fraction=0.5,\n",
       "                                                                   learning_rate=0.4,\n",
       "                                                                   min_child_samples=6,\n",
       "                                                                   min_split_gain=0.3,\n",
       "                                                                   n_estimators=20,\n",
       "                                                                   n_jobs=10,\n",
       "                                                                   num_leaves=150,\n",
       "                                                                   random_state=123,\n",
       "                                                                   reg_alpha=0.005,\n",
       "                                                                   reg_lambda=0.0005),\n",
       "                                     classifier=CalibratedClassifierCV(base_estimator=LGBMClassifier(bagging_fraction=0.9,\n",
       "                                                                                                     bagging_freq=3,\n",
       "                                                                                                     feature_fraction=0.5,\n",
       "                                                                                                     learning_rate=0.4,\n",
       "                                                                                                     min_child_samples=6,\n",
       "                                                                                                     min_split_gain=0.3,\n",
       "                                                                                                     n_estimators=20,\n",
       "                                                                                                     n_jobs=10,\n",
       "                                                                                                     num_leaves=150,\n",
       "                                                                                                     random_state=123,\n",
       "                                                                                                     reg_alpha=0.005,\n",
       "                                                                                                     reg_lambda=0.0005),\n",
       "                                                                       cv=5),\n",
       "                                     cv=5, ensemble=True, estimator=None,\n",
       "                                     method='sigmoid', n_jobs=None,\n",
       "                                     probability_threshold=0.359375)"
      ]
     },
     "execution_count": 21,
     "metadata": {},
     "output_type": "execute_result"
    }
   ],
   "source": [
    "lgb_model = bst_pycaret_lgbm[-1]\n",
    "lgb_model"
   ]
  },
  {
   "cell_type": "code",
   "execution_count": 26,
   "metadata": {},
   "outputs": [
    {
     "name": "stdout",
     "output_type": "stream",
     "text": [
      "[LightGBM] [Warning] Categorical features with more bins than the configured maximum bin number found.\n",
      "[LightGBM] [Warning] For categorical features, max_bin and max_bin_by_feature may be ignored with a large number of categories.\n",
      "[LightGBM] [Info] Auto-choosing row-wise multi-threading, the overhead of testing was 0.017268 seconds.\n",
      "You can set `force_row_wise=true` to remove the overhead.\n",
      "And if memory is not enough, you can set `force_col_wise=true`.\n",
      "[LightGBM] [Info] Total Bins 16422\n",
      "[LightGBM] [Info] Number of data points in the train set: 606794, number of used features: 23\n",
      "[LightGBM] [Info] Start training from score 0.500000\n",
      "[LightGBM] [Warning] No further splits with positive gain, best gain: -inf\n",
      "[LightGBM] [Warning] No further splits with positive gain, best gain: -inf\n",
      "[LightGBM] [Warning] No further splits with positive gain, best gain: -inf\n",
      "[LightGBM] [Warning] No further splits with positive gain, best gain: -inf\n",
      "[LightGBM] [Warning] No further splits with positive gain, best gain: -inf\n",
      "[LightGBM] [Warning] No further splits with positive gain, best gain: -inf\n",
      "[LightGBM] [Warning] No further splits with positive gain, best gain: -inf\n",
      "[LightGBM] [Warning] No further splits with positive gain, best gain: -inf\n",
      "[LightGBM] [Warning] No further splits with positive gain, best gain: -inf\n",
      "[LightGBM] [Warning] No further splits with positive gain, best gain: -inf\n",
      "[LightGBM] [Warning] No further splits with positive gain, best gain: -inf\n",
      "[LightGBM] [Warning] No further splits with positive gain, best gain: -inf\n",
      "[LightGBM] [Warning] No further splits with positive gain, best gain: -inf\n",
      "[LightGBM] [Warning] No further splits with positive gain, best gain: -inf\n",
      "[LightGBM] [Warning] No further splits with positive gain, best gain: -inf\n",
      "[LightGBM] [Warning] No further splits with positive gain, best gain: -inf\n",
      "[LightGBM] [Warning] Stopped training because there are no more leaves that meet the split requirements\n",
      "[LightGBM] [Warning] No further splits with positive gain, best gain: -inf\n",
      "[LightGBM] [Warning] No further splits with positive gain, best gain: -inf\n",
      "[LightGBM] [Warning] No further splits with positive gain, best gain: -inf\n",
      "[LightGBM] [Warning] No further splits with positive gain, best gain: -inf\n",
      "[LightGBM] [Warning] Stopped training because there are no more leaves that meet the split requirements\n"
     ]
    }
   ],
   "source": [
    "# 設定categorical variables\n",
    "# 取得剩下的名稱列表\n",
    "all_columns = train_df.columns.to_list()\n",
    "# select categroy columns and without \"label\"\n",
    "categorical_columns = [col for col in train_df.columns if train_df[col].dtype == 'category' and col != 'label']\n",
    "\n",
    "# 針對少數樣本進行 resample (Oversampling)\n",
    "# 創建 RandomOverSampler 對象\n",
    "oversample = RandomOverSampler(sampling_strategy='minority')\n",
    "# 應用 Oversampling\n",
    "X_train_resampled, y_train_resampled = oversample.fit_resample(X_train, y_train)\n",
    "\n",
    "# 將資料轉換為 LightGBM 格式\n",
    "train_data = lgb.Dataset(X_train_resampled, categorical_feature=categorical_columns, label=y_train_resampled)\n",
    "test_data = lgb.Dataset(X_test, categorical_feature=categorical_columns, label=y_test, reference=train_data)\n",
    "\n",
    "# 設置 LightGBM 參數\n",
    "params = {\n",
    "    'bagging_fraction': 0.9,\n",
    "    'bagging_freq': 3,\n",
    "    'feature_fraction': 0.5,\n",
    "    'learning_rate': 0.4,\n",
    "    'min_child_samples': 6,\n",
    "    'min_split_gain': 0.3,\n",
    "    'n_estimators': 20,\n",
    "    'n_jobs': 7,\n",
    "    'num_leaves': 150,\n",
    "    'random_state': 123,\n",
    "    'reg_alpha': 0.005,\n",
    "    'reg_lambda': 0.0005\n",
    "}\n",
    "\n",
    "incremental_train_trial = lgb.train(\n",
    "    params,\n",
    "    train_set=train_data,\n",
    "    num_boost_round=500,\n",
    "    valid_sets=test_data,\n",
    "    init_model=lgb_model\n",
    ")"
   ]
  },
  {
   "cell_type": "markdown",
   "metadata": {},
   "source": [
    "## Predictions of incremental model"
   ]
  },
  {
   "cell_type": "code",
   "execution_count": 69,
   "metadata": {},
   "outputs": [
    {
     "name": "stdout",
     "output_type": "stream",
     "text": [
      "Accuracy: 0.9975305398660187\n",
      "Classification Report:\n",
      "              precision    recall  f1-score   support\n",
      "\n",
      "           0       1.00      1.00      1.00    303459\n",
      "           1       0.64      0.67      0.65      1061\n",
      "\n",
      "    accuracy                           1.00    304520\n",
      "   macro avg       0.82      0.84      0.83    304520\n",
      "weighted avg       1.00      1.00      1.00    304520\n",
      "\n"
     ]
    }
   ],
   "source": [
    "y_pred_incremental = incremental_train_trial.predict(X_test, num_iteration=incremental_train_trial.best_iteration)\n",
    "y_pred_incremental_binary = (y_pred_incremental > 0.5).astype(int)\n",
    "\n",
    "# 評估模型性能\n",
    "accuracy = accuracy_score(y_test, y_pred_incremental_binary)\n",
    "print(\"Accuracy:\", accuracy)\n",
    "\n",
    "# 顯示分類報告\n",
    "print(\"Classification Report:\")\n",
    "print(classification_report(y_test, y_pred_incremental_binary))\n"
   ]
  },
  {
   "cell_type": "markdown",
   "metadata": {},
   "source": [
    "## Predictions of original model"
   ]
  },
  {
   "cell_type": "code",
   "execution_count": 72,
   "metadata": {},
   "outputs": [
    {
     "name": "stdout",
     "output_type": "stream",
     "text": [
      "[LightGBM] [Warning] bagging_freq is set=3, subsample_freq=0 will be ignored. Current value: bagging_freq=3\n",
      "[LightGBM] [Warning] feature_fraction is set=0.5, colsample_bytree=1.0 will be ignored. Current value: feature_fraction=0.5\n",
      "[LightGBM] [Warning] bagging_fraction is set=0.9, subsample=1.0 will be ignored. Current value: bagging_fraction=0.9\n",
      "[LightGBM] [Warning] bagging_freq is set=3, subsample_freq=0 will be ignored. Current value: bagging_freq=3\n",
      "[LightGBM] [Warning] feature_fraction is set=0.5, colsample_bytree=1.0 will be ignored. Current value: feature_fraction=0.5\n",
      "[LightGBM] [Warning] bagging_fraction is set=0.9, subsample=1.0 will be ignored. Current value: bagging_fraction=0.9\n",
      "[LightGBM] [Warning] bagging_freq is set=3, subsample_freq=0 will be ignored. Current value: bagging_freq=3\n",
      "[LightGBM] [Warning] feature_fraction is set=0.5, colsample_bytree=1.0 will be ignored. Current value: feature_fraction=0.5\n",
      "[LightGBM] [Warning] bagging_fraction is set=0.9, subsample=1.0 will be ignored. Current value: bagging_fraction=0.9\n",
      "[LightGBM] [Warning] bagging_freq is set=3, subsample_freq=0 will be ignored. Current value: bagging_freq=3\n",
      "[LightGBM] [Warning] feature_fraction is set=0.5, colsample_bytree=1.0 will be ignored. Current value: feature_fraction=0.5\n",
      "[LightGBM] [Warning] bagging_fraction is set=0.9, subsample=1.0 will be ignored. Current value: bagging_fraction=0.9\n",
      "[LightGBM] [Warning] bagging_freq is set=3, subsample_freq=0 will be ignored. Current value: bagging_freq=3\n",
      "[LightGBM] [Warning] feature_fraction is set=0.5, colsample_bytree=1.0 will be ignored. Current value: feature_fraction=0.5\n",
      "[LightGBM] [Warning] bagging_fraction is set=0.9, subsample=1.0 will be ignored. Current value: bagging_fraction=0.9\n",
      "[LightGBM] [Warning] bagging_freq is set=3, subsample_freq=0 will be ignored. Current value: bagging_freq=3\n",
      "[LightGBM] [Warning] feature_fraction is set=0.5, colsample_bytree=1.0 will be ignored. Current value: feature_fraction=0.5\n",
      "[LightGBM] [Warning] bagging_fraction is set=0.9, subsample=1.0 will be ignored. Current value: bagging_fraction=0.9\n",
      "[LightGBM] [Warning] bagging_freq is set=3, subsample_freq=0 will be ignored. Current value: bagging_freq=3\n",
      "[LightGBM] [Warning] feature_fraction is set=0.5, colsample_bytree=1.0 will be ignored. Current value: feature_fraction=0.5\n",
      "[LightGBM] [Warning] bagging_fraction is set=0.9, subsample=1.0 will be ignored. Current value: bagging_fraction=0.9\n",
      "[LightGBM] [Warning] bagging_freq is set=3, subsample_freq=0 will be ignored. Current value: bagging_freq=3\n",
      "[LightGBM] [Warning] feature_fraction is set=0.5, colsample_bytree=1.0 will be ignored. Current value: feature_fraction=0.5\n",
      "[LightGBM] [Warning] bagging_fraction is set=0.9, subsample=1.0 will be ignored. Current value: bagging_fraction=0.9\n",
      "[LightGBM] [Warning] bagging_freq is set=3, subsample_freq=0 will be ignored. Current value: bagging_freq=3\n",
      "[LightGBM] [Warning] feature_fraction is set=0.5, colsample_bytree=1.0 will be ignored. Current value: feature_fraction=0.5\n",
      "[LightGBM] [Warning] bagging_fraction is set=0.9, subsample=1.0 will be ignored. Current value: bagging_fraction=0.9\n",
      "[LightGBM] [Warning] bagging_freq is set=3, subsample_freq=0 will be ignored. Current value: bagging_freq=3\n",
      "[LightGBM] [Warning] feature_fraction is set=0.5, colsample_bytree=1.0 will be ignored. Current value: feature_fraction=0.5\n",
      "[LightGBM] [Warning] bagging_fraction is set=0.9, subsample=1.0 will be ignored. Current value: bagging_fraction=0.9\n"
     ]
    }
   ],
   "source": [
    "y_pred_origin = exp.predict_model(bst_pycaret_lgbm, data=X_test)"
   ]
  },
  {
   "cell_type": "code",
   "execution_count": 73,
   "metadata": {},
   "outputs": [
    {
     "name": "stdout",
     "output_type": "stream",
     "text": [
      "Accuracy: 0.9983580717194273\n",
      "Classification Report:\n",
      "              precision    recall  f1-score   support\n",
      "\n",
      "           0       1.00      1.00      1.00    303459\n",
      "           1       0.91      0.58      0.71      1061\n",
      "\n",
      "    accuracy                           1.00    304520\n",
      "   macro avg       0.96      0.79      0.86    304520\n",
      "weighted avg       1.00      1.00      1.00    304520\n",
      "\n"
     ]
    }
   ],
   "source": [
    "#y_pred_origin['prediction_label'].to_numpy()\n",
    "y_pred_origin_binary = y_pred_origin['prediction_label'].values\n",
    "\n",
    "# 評估模型性能\n",
    "accuracy = accuracy_score(y_test, y_pred_origin_binary)\n",
    "print(\"Accuracy:\", accuracy)\n",
    "\n",
    "# 顯示分類報告\n",
    "print(\"Classification Report:\")\n",
    "print(classification_report(y_test, y_pred_origin_binary))"
   ]
  },
  {
   "cell_type": "markdown",
   "metadata": {},
   "source": [
    "# Predict using original model"
   ]
  },
  {
   "cell_type": "code",
   "execution_count": 14,
   "metadata": {},
   "outputs": [
    {
     "name": "stdout",
     "output_type": "stream",
     "text": [
      "[LightGBM] [Warning] bagging_freq is set=3, subsample_freq=0 will be ignored. Current value: bagging_freq=3\n",
      "[LightGBM] [Warning] feature_fraction is set=0.5, colsample_bytree=1.0 will be ignored. Current value: feature_fraction=0.5\n",
      "[LightGBM] [Warning] bagging_fraction is set=0.9, subsample=1.0 will be ignored. Current value: bagging_fraction=0.9\n",
      "[LightGBM] [Warning] bagging_freq is set=3, subsample_freq=0 will be ignored. Current value: bagging_freq=3\n",
      "[LightGBM] [Warning] feature_fraction is set=0.5, colsample_bytree=1.0 will be ignored. Current value: feature_fraction=0.5\n",
      "[LightGBM] [Warning] bagging_fraction is set=0.9, subsample=1.0 will be ignored. Current value: bagging_fraction=0.9\n",
      "[LightGBM] [Warning] bagging_freq is set=3, subsample_freq=0 will be ignored. Current value: bagging_freq=3\n",
      "[LightGBM] [Warning] feature_fraction is set=0.5, colsample_bytree=1.0 will be ignored. Current value: feature_fraction=0.5\n",
      "[LightGBM] [Warning] bagging_fraction is set=0.9, subsample=1.0 will be ignored. Current value: bagging_fraction=0.9\n",
      "[LightGBM] [Warning] bagging_freq is set=3, subsample_freq=0 will be ignored. Current value: bagging_freq=3\n",
      "[LightGBM] [Warning] feature_fraction is set=0.5, colsample_bytree=1.0 will be ignored. Current value: feature_fraction=0.5\n",
      "[LightGBM] [Warning] bagging_fraction is set=0.9, subsample=1.0 will be ignored. Current value: bagging_fraction=0.9\n",
      "[LightGBM] [Warning] bagging_freq is set=3, subsample_freq=0 will be ignored. Current value: bagging_freq=3\n",
      "[LightGBM] [Warning] feature_fraction is set=0.5, colsample_bytree=1.0 will be ignored. Current value: feature_fraction=0.5\n",
      "[LightGBM] [Warning] bagging_fraction is set=0.9, subsample=1.0 will be ignored. Current value: bagging_fraction=0.9\n",
      "[LightGBM] [Warning] bagging_freq is set=3, subsample_freq=0 will be ignored. Current value: bagging_freq=3\n",
      "[LightGBM] [Warning] feature_fraction is set=0.5, colsample_bytree=1.0 will be ignored. Current value: feature_fraction=0.5\n",
      "[LightGBM] [Warning] bagging_fraction is set=0.9, subsample=1.0 will be ignored. Current value: bagging_fraction=0.9\n",
      "[LightGBM] [Warning] bagging_freq is set=3, subsample_freq=0 will be ignored. Current value: bagging_freq=3\n",
      "[LightGBM] [Warning] feature_fraction is set=0.5, colsample_bytree=1.0 will be ignored. Current value: feature_fraction=0.5\n",
      "[LightGBM] [Warning] bagging_fraction is set=0.9, subsample=1.0 will be ignored. Current value: bagging_fraction=0.9\n",
      "[LightGBM] [Warning] bagging_freq is set=3, subsample_freq=0 will be ignored. Current value: bagging_freq=3\n",
      "[LightGBM] [Warning] feature_fraction is set=0.5, colsample_bytree=1.0 will be ignored. Current value: feature_fraction=0.5\n",
      "[LightGBM] [Warning] bagging_fraction is set=0.9, subsample=1.0 will be ignored. Current value: bagging_fraction=0.9\n",
      "[LightGBM] [Warning] bagging_freq is set=3, subsample_freq=0 will be ignored. Current value: bagging_freq=3\n",
      "[LightGBM] [Warning] feature_fraction is set=0.5, colsample_bytree=1.0 will be ignored. Current value: feature_fraction=0.5\n",
      "[LightGBM] [Warning] bagging_fraction is set=0.9, subsample=1.0 will be ignored. Current value: bagging_fraction=0.9\n",
      "[LightGBM] [Warning] bagging_freq is set=3, subsample_freq=0 will be ignored. Current value: bagging_freq=3\n",
      "[LightGBM] [Warning] feature_fraction is set=0.5, colsample_bytree=1.0 will be ignored. Current value: feature_fraction=0.5\n",
      "[LightGBM] [Warning] bagging_fraction is set=0.9, subsample=1.0 will be ignored. Current value: bagging_fraction=0.9\n",
      "0    752565\n",
      "1      1574\n",
      "Name: label, dtype: int64\n"
     ]
    }
   ],
   "source": [
    "prediction_bst_lgbm = exp.predict_model(bst_pycaret_lgbm, data=private_df)\n",
    "final_df['label'] = prediction_bst_lgbm[['prediction_label']]\n",
    "#print(final_df['label'].value_counts())\n",
    "final_df.to_csv('Original_final_lgbm_model_prediction.csv', index=False)"
   ]
  }
 ],
 "metadata": {
  "kernelspec": {
   "display_name": "py310",
   "language": "python",
   "name": "python3"
  },
  "language_info": {
   "codemirror_mode": {
    "name": "ipython",
    "version": 3
   },
   "file_extension": ".py",
   "mimetype": "text/x-python",
   "name": "python",
   "nbconvert_exporter": "python",
   "pygments_lexer": "ipython3",
   "version": "3.10.13"
  }
 },
 "nbformat": 4,
 "nbformat_minor": 2
}
