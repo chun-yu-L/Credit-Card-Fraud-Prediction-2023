{
 "cells": [
  {
   "cell_type": "code",
   "execution_count": 1,
   "metadata": {},
   "outputs": [],
   "source": [
    "import pandas as pd"
   ]
  },
  {
   "cell_type": "code",
   "execution_count": 2,
   "metadata": {},
   "outputs": [],
   "source": [
    "public_result = pd.read_csv('Submission_test_lgbm_all_optimize_caliberate_finalize.csv')\n",
    "private_result = pd.read_csv('Final_lgbm_model_prediction.csv')\n",
    "upload_file = pd.read_csv('31_範例繳交檔案.csv')"
   ]
  },
  {
   "cell_type": "code",
   "execution_count": 3,
   "metadata": {},
   "outputs": [],
   "source": [
    "public_result.rename(columns={'label':'pred'}, inplace=True)\n",
    "private_result.rename(columns={'label':'pred'}, inplace=True)"
   ]
  },
  {
   "cell_type": "code",
   "execution_count": 8,
   "metadata": {},
   "outputs": [
    {
     "data": {
      "text/html": [
       "<div>\n",
       "<style scoped>\n",
       "    .dataframe tbody tr th:only-of-type {\n",
       "        vertical-align: middle;\n",
       "    }\n",
       "\n",
       "    .dataframe tbody tr th {\n",
       "        vertical-align: top;\n",
       "    }\n",
       "\n",
       "    .dataframe thead th {\n",
       "        text-align: right;\n",
       "    }\n",
       "</style>\n",
       "<table border=\"1\" class=\"dataframe\">\n",
       "  <thead>\n",
       "    <tr style=\"text-align: right;\">\n",
       "      <th></th>\n",
       "      <th>txkey</th>\n",
       "      <th>pred</th>\n",
       "    </tr>\n",
       "  </thead>\n",
       "  <tbody>\n",
       "    <tr>\n",
       "      <th>0</th>\n",
       "      <td>a2c1209018e4e52e04f6fabb48f05f1b8bc09dc838ff6c...</td>\n",
       "      <td>0</td>\n",
       "    </tr>\n",
       "    <tr>\n",
       "      <th>1</th>\n",
       "      <td>16c4880500059e01553789be11bbb50753b7acaae7b95b...</td>\n",
       "      <td>0</td>\n",
       "    </tr>\n",
       "    <tr>\n",
       "      <th>2</th>\n",
       "      <td>623c56be3bee87724e3d119c271d9ed098eeda84233183...</td>\n",
       "      <td>0</td>\n",
       "    </tr>\n",
       "    <tr>\n",
       "      <th>3</th>\n",
       "      <td>250da12187059cf6e3a3066656a2919d08ceb8207efd55...</td>\n",
       "      <td>0</td>\n",
       "    </tr>\n",
       "    <tr>\n",
       "      <th>4</th>\n",
       "      <td>4b268e0da036f44cbbb056ddfac6a28ea336d9cf299843...</td>\n",
       "      <td>0</td>\n",
       "    </tr>\n",
       "    <tr>\n",
       "      <th>...</th>\n",
       "      <td>...</td>\n",
       "      <td>...</td>\n",
       "    </tr>\n",
       "    <tr>\n",
       "      <th>1354316</th>\n",
       "      <td>47cd55bd7492e01e197b61799d072e6ca9e1c118bc76e9...</td>\n",
       "      <td>0</td>\n",
       "    </tr>\n",
       "    <tr>\n",
       "      <th>1354317</th>\n",
       "      <td>26cef9cc35fb73bedd08a711ebb6d612e4af7dd7b62e7c...</td>\n",
       "      <td>0</td>\n",
       "    </tr>\n",
       "    <tr>\n",
       "      <th>1354318</th>\n",
       "      <td>f12f861ef6a8517ecddae262c1cc895f618e7e8c19eb9a...</td>\n",
       "      <td>0</td>\n",
       "    </tr>\n",
       "    <tr>\n",
       "      <th>1354319</th>\n",
       "      <td>638b1a6a6f4389b7af60a6cb0ca908c82d0bdffc6924b0...</td>\n",
       "      <td>0</td>\n",
       "    </tr>\n",
       "    <tr>\n",
       "      <th>1354320</th>\n",
       "      <td>9b9a8957b74f24aedbb085924fb3cc7653c980607ff818...</td>\n",
       "      <td>0</td>\n",
       "    </tr>\n",
       "  </tbody>\n",
       "</table>\n",
       "<p>1354321 rows × 2 columns</p>\n",
       "</div>"
      ],
      "text/plain": [
       "                                                     txkey  pred\n",
       "0        a2c1209018e4e52e04f6fabb48f05f1b8bc09dc838ff6c...     0\n",
       "1        16c4880500059e01553789be11bbb50753b7acaae7b95b...     0\n",
       "2        623c56be3bee87724e3d119c271d9ed098eeda84233183...     0\n",
       "3        250da12187059cf6e3a3066656a2919d08ceb8207efd55...     0\n",
       "4        4b268e0da036f44cbbb056ddfac6a28ea336d9cf299843...     0\n",
       "...                                                    ...   ...\n",
       "1354316  47cd55bd7492e01e197b61799d072e6ca9e1c118bc76e9...     0\n",
       "1354317  26cef9cc35fb73bedd08a711ebb6d612e4af7dd7b62e7c...     0\n",
       "1354318  f12f861ef6a8517ecddae262c1cc895f618e7e8c19eb9a...     0\n",
       "1354319  638b1a6a6f4389b7af60a6cb0ca908c82d0bdffc6924b0...     0\n",
       "1354320  9b9a8957b74f24aedbb085924fb3cc7653c980607ff818...     0\n",
       "\n",
       "[1354321 rows x 2 columns]"
      ]
     },
     "execution_count": 8,
     "metadata": {},
     "output_type": "execute_result"
    }
   ],
   "source": [
    "combine_result = pd.concat([public_result, private_result], ignore_index=True)\n",
    "combine_result.to_csv('Final_combine_public_and_private.csv', index=False)\n",
    "combine_result"
   ]
  },
  {
   "cell_type": "code",
   "execution_count": 5,
   "metadata": {},
   "outputs": [
    {
     "data": {
      "text/plain": [
       "True"
      ]
     },
     "execution_count": 5,
     "metadata": {},
     "output_type": "execute_result"
    }
   ],
   "source": [
    "combine_result[['txkey']].equals(upload_file[['txkey']])"
   ]
  },
  {
   "cell_type": "code",
   "execution_count": 6,
   "metadata": {},
   "outputs": [
    {
     "data": {
      "text/plain": [
       "True"
      ]
     },
     "execution_count": 6,
     "metadata": {},
     "output_type": "execute_result"
    }
   ],
   "source": [
    "combine_result.index.equals(upload_file.index)"
   ]
  }
 ],
 "metadata": {
  "kernelspec": {
   "display_name": "py310",
   "language": "python",
   "name": "python3"
  },
  "language_info": {
   "codemirror_mode": {
    "name": "ipython",
    "version": 3
   },
   "file_extension": ".py",
   "mimetype": "text/x-python",
   "name": "python",
   "nbconvert_exporter": "python",
   "pygments_lexer": "ipython3",
   "version": "3.10.13"
  }
 },
 "nbformat": 4,
 "nbformat_minor": 2
}
